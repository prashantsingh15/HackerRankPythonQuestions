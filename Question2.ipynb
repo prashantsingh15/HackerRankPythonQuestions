{
 "cells": [
  {
   "cell_type": "markdown",
   "metadata": {},
   "source": [
    "Task\n",
    "The provided code stub reads two integers from STDIN,  and . Add code to print three lines where:\n",
    "\n",
    "The first line contains the sum of the two numbers.\n",
    "The second line contains the difference of the two numbers (first - second).\n",
    "The third line contains the product of the two numbers.\n",
    "Example\n",
    "\n",
    "\n",
    "Print the following:\n",
    "\n",
    "8\n",
    "-2\n",
    "15\n",
    "Input Format\n",
    "\n",
    "The first line contains the first integer, .\n",
    "The second line contains the second integer, .\n",
    "\n",
    "Constraints\n",
    "\n",
    "\n",
    "\n",
    "Output Format\n",
    "\n",
    "Print the three lines as explained above.\n",
    "\n",
    "Sample Input 0\n",
    "\n",
    "3\n",
    "2\n",
    "Sample Output 0\n",
    "\n",
    "5\n",
    "1\n",
    "6\n",
    "Explanation 0\n",
    "\n",
    "\n",
    "\n",
    "\n"
   ]
  },
  {
   "cell_type": "code",
   "execution_count": 1,
   "metadata": {},
   "outputs": [
    {
     "name": "stdout",
     "output_type": "stream",
     "text": [
      "8\n",
      "-2\n",
      "15\n"
     ]
    }
   ],
   "source": [
    "if __name__ == '__main__':\n",
    "    a = int(input())\n",
    "    b = int(input())\n",
    "\n",
    "\n",
    "def add(a,b):\n",
    "    return a + b\n",
    "\n",
    "def diff(a,b):\n",
    "    return a - b\n",
    "\n",
    "def product(a,b):\n",
    "    return a * b\n",
    "\n",
    "print(add(a,b))\n",
    "print(diff(a,b))\n",
    "print(product(a,b))"
   ]
  }
 ],
 "metadata": {
  "kernelspec": {
   "display_name": "chatbotversion",
   "language": "python",
   "name": "python3"
  },
  "language_info": {
   "codemirror_mode": {
    "name": "ipython",
    "version": 3
   },
   "file_extension": ".py",
   "mimetype": "text/x-python",
   "name": "python",
   "nbconvert_exporter": "python",
   "pygments_lexer": "ipython3",
   "version": "3.10.13"
  }
 },
 "nbformat": 4,
 "nbformat_minor": 2
}
