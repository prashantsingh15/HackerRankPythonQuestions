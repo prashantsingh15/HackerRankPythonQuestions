{
 "cells": [
  {
   "cell_type": "markdown",
   "metadata": {},
   "source": [
    "The included code stub will read an integer, , from STDIN.\n",
    "\n",
    "Without using any string methods, try to print the following:\n",
    "\n",
    "\n",
    "Note that \"\" represents the consecutive values in between.\n",
    "\n",
    "Example\n",
    "\n",
    "n = 5\n",
    "\n",
    "Print the string 12345.\n",
    "\n",
    "Input Format\n",
    "\n",
    "The first line contains an integer n.\n",
    "\n",
    "\n",
    "\n",
    "Output Format\n",
    "\n",
    "Print the list of integers from  through  as a string, without spaces.\n",
    "\n",
    "Sample Input 0\n",
    "\n",
    "3\n",
    "Sample Output 0\n",
    "\n",
    "123"
   ]
  },
  {
   "cell_type": "code",
   "execution_count": 5,
   "metadata": {},
   "outputs": [
    {
     "name": "stdout",
     "output_type": "stream",
     "text": [
      "123"
     ]
    }
   ],
   "source": [
    "from functools import cache\n",
    "if __name__ == \"__main__\":\n",
    "    n = int(input())\n",
    "\n",
    "\n",
    "\n",
    "for i in range(1, n+1):\n",
    "    print(i , end=\"\")\n"
   ]
  },
  {
   "cell_type": "markdown",
   "metadata": {},
   "source": [
    "TEST INPUT :- 3 \n",
    "EXPECTED OUTPUT :- 123"
   ]
  },
  {
   "cell_type": "code",
   "execution_count": null,
   "metadata": {},
   "outputs": [],
   "source": [
    "function subarraySum(arr, N, S) {\n",
    "    let left_index = 0;\n",
    "    let current_sum = arr[0];\n",
    "    for (let right_index = 1; right_index <= N; right_index++) {\n",
    "        \n",
    "        while (current_sum > S && left_index < right_index - 1) {\n",
    "            current_sum -= arr[left_index];\n",
    "            left_index++;\n",
    "        }\n",
    "\n",
    "        \n",
    "        if (current_sum == S) {\n",
    "            return [left_index + 1, right_index]; // Converting to 1-based indexing\n",
    "        }\n",
    "\n",
    "        \n",
    "        if (right_index < N) {\n",
    "            current_sum += arr[right_index];\n",
    "        }\n",
    "    }\n",
    "\n",
    "   \n",
    "    return [-1];\n",
    "}"
   ]
  }
 ],
 "metadata": {
  "kernelspec": {
   "display_name": "chatbotversion",
   "language": "python",
   "name": "python3"
  },
  "language_info": {
   "codemirror_mode": {
    "name": "ipython",
    "version": 3
   },
   "file_extension": ".py",
   "mimetype": "text/x-python",
   "name": "python",
   "nbconvert_exporter": "python",
   "pygments_lexer": "ipython3",
   "version": "3.10.13"
  }
 },
 "nbformat": 4,
 "nbformat_minor": 2
}
